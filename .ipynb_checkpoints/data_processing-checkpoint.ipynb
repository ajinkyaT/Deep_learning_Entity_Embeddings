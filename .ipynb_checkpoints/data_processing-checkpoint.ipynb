{
 "cells": [
  {
   "cell_type": "code",
   "execution_count": 1,
   "metadata": {
    "collapsed": true
   },
   "outputs": [],
   "source": [
    "import numpy as np\n",
    "import pandas as pd"
   ]
  },
  {
   "cell_type": "code",
   "execution_count": null,
   "metadata": {
    "collapsed": true
   },
   "outputs": [],
   "source": [
    "ahmd_traffic = pd.read_excel(\"data/Events Report of Drivers in Ahmedabad_16-07 to 31-07.xlsx\")"
   ]
  },
  {
   "cell_type": "code",
   "execution_count": null,
   "metadata": {
    "scrolled": false
   },
   "outputs": [],
   "source": [
    "ahmd_traffic.head()"
   ]
  },
  {
   "cell_type": "markdown",
   "metadata": {},
   "source": [
    "#### Droping \"Event Value\" and \"Event Unit\" as there would be information leakage for predicting \"Event Name\" eg, if event units is seconds only idling could be the case. Also getting rid of other less useful columns"
   ]
  },
  {
   "cell_type": "code",
   "execution_count": null,
   "metadata": {},
   "outputs": [],
   "source": [
    "ahmd_traffic = ahmd_traffic.drop(ahmd_traffic.columns[[2,3,6,8,9]], axis = 1)\n",
    "ahmd_traffic.head()"
   ]
  },
  {
   "cell_type": "markdown",
   "metadata": {},
   "source": [
    "#### Creating new variables, weekday and hour of the day based on timestamp column, \"Event Time\""
   ]
  },
  {
   "cell_type": "code",
   "execution_count": null,
   "metadata": {},
   "outputs": [],
   "source": [
    "ahmd_traffic['Event Time'] =  pd.to_datetime(ahmd_traffic['Event Time'], format='%d.%m.%Y %H:%M:%S')\n",
    "ahmd_traffic['weekday'] = ahmd_traffic['Event Time'].dt.dayofweek\n",
    "ahmd_traffic['hour'] = ahmd_traffic['Event Time'].dt.hour\n",
    "ahmd_traffic = ahmd_traffic.drop(ahmd_traffic.columns[[1]], axis = 1)\n",
    "\n",
    "days = {0:'Mon',1:'Tues',2:'Weds',3:'Thurs',4:'Fri',5:'Sat',6:'Sun'}\n",
    "\n",
    "ahmd_traffic['weekday'] = ahmd_traffic['weekday'].apply(lambda x: days[x])\n",
    "ahmd_traffic.head()"
   ]
  },
  {
   "cell_type": "markdown",
   "metadata": {},
   "source": [
    "#### Converting categorial variables into integers (label encoding before embedding operation)"
   ]
  },
  {
   "cell_type": "code",
   "execution_count": null,
   "metadata": {},
   "outputs": [],
   "source": [
    "from sklearn import preprocessing # Label Encoding: converting text labels into the integers\n",
    "from sklearn.externals import joblib #for saving label encoder, we will need it later\n",
    "\n",
    "event_name_le = preprocessing.LabelEncoder()\n",
    "route_name_le = preprocessing.LabelEncoder()\n",
    "stop_name_le = preprocessing.LabelEncoder()\n",
    "weekday_le = preprocessing.LabelEncoder()\n",
    "\n",
    "\n",
    "event_name_le.fit(ahmd_traffic['Event Name'])\n",
    "ahmd_traffic['Event Name'] = event_name_le.transform(ahmd_traffic['Event Name'])\n",
    "\n",
    "route_name_le.fit(ahmd_traffic['Route Name'])\n",
    "ahmd_traffic['Route Name'] = route_name_le.transform(ahmd_traffic['Route Name'])\n",
    "\n",
    "stop_name_le.fit(ahmd_traffic['Stop Name'])\n",
    "ahmd_traffic['Stop Name'] = stop_name_le.transform(ahmd_traffic['Stop Name'])\n",
    "\n",
    "weekday_le.fit(ahmd_traffic['weekday'])\n",
    "ahmd_traffic['weekday'] = weekday_le.transform(ahmd_traffic['weekday'])\n",
    "\n",
    "joblib.dump(event_name_le, 'data/label_encoders/event_name_le.pkl')\n",
    "joblib.dump(route_name_le, 'data/label_encoders/route_name_le.pkl')\n",
    "joblib.dump(stop_name_le, 'data/label_encoders/stop_name_le.pkl')\n",
    "joblib.dump(weekday_le, 'data/label_encoders/weekday_le.pkl')"
   ]
  },
  {
   "cell_type": "markdown",
   "metadata": {},
   "source": [
    "#### Saving processed dataframe"
   ]
  },
  {
   "cell_type": "code",
   "execution_count": null,
   "metadata": {},
   "outputs": [],
   "source": [
    "ahmd_traffic.to_csv(\"data/ahmd_traffic_clean_df.csv\", index = False)\n",
    "ahmd_traffic.head()"
   ]
  }
 ],
 "metadata": {
  "kernelspec": {
   "display_name": "Python 3",
   "language": "python",
   "name": "python3"
  },
  "language_info": {
   "codemirror_mode": {
    "name": "ipython",
    "version": 3
   },
   "file_extension": ".py",
   "mimetype": "text/x-python",
   "name": "python",
   "nbconvert_exporter": "python",
   "pygments_lexer": "ipython3",
   "version": "3.6.1"
  }
 },
 "nbformat": 4,
 "nbformat_minor": 2
}
